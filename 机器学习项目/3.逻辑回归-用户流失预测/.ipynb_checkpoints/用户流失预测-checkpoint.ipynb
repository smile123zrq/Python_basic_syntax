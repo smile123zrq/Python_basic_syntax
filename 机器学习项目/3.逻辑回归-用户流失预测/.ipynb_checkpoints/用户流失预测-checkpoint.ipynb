{
 "cells": [
  {
   "cell_type": "code",
   "execution_count": 70,
   "metadata": {
    "collapsed": true
   },
   "outputs": [],
   "source": [
    "import numpy as np"
   ]
  },
  {
   "cell_type": "code",
   "execution_count": 71,
   "metadata": {
    "collapsed": true
   },
   "outputs": [],
   "source": [
    "train_data = np.genfromtxt('Churn-Modelling.csv',delimiter=',',dtype=np.str)\n",
    "test_data = np.genfromtxt('Churn-Modelling-Test-Data.csv',delimiter=',',dtype=np.str)"
   ]
  },
  {
   "cell_type": "code",
   "execution_count": 72,
   "metadata": {},
   "outputs": [],
   "source": [
    "x_train = train_data[1:,:-1]\n",
    "y_train = train_data[1:,-1].astype(int)\n",
    "x_test = test_data[1:,:-1]\n",
    "y_test = test_data[1:,-1].astype(int)"
   ]
  },
  {
   "cell_type": "code",
   "execution_count": 73,
   "metadata": {},
   "outputs": [],
   "source": [
    "x_train = np.delete(x_train,[0,1,2],axis=1)\n",
    "x_test = np.delete(x_test,[0,1,2],axis=1)"
   ]
  },
  {
   "cell_type": "code",
   "execution_count": 74,
   "metadata": {},
   "outputs": [
    {
     "data": {
      "text/plain": [
       "array([['619', 'France', 'Female', '42', '2', '0', '1', '1', '1',\n",
       "        '101348.88'],\n",
       "       ['608', 'Spain', 'Female', '41', '1', '83807.86', '1', '0', '1',\n",
       "        '112542.58'],\n",
       "       ['502', 'France', 'Female', '42', '8', '159660.8', '3', '1', '0',\n",
       "        '113931.57'],\n",
       "       ['699', 'France', 'Female', '39', '1', '0', '2', '0', '0',\n",
       "        '93826.63'],\n",
       "       ['850', 'Spain', 'Female', '43', '2', '125510.82', '1', '1', '1',\n",
       "        '79084.1']], dtype='<U23')"
      ]
     },
     "execution_count": 74,
     "metadata": {},
     "output_type": "execute_result"
    }
   ],
   "source": [
    "x_train[:5]"
   ]
  },
  {
   "cell_type": "code",
   "execution_count": 75,
   "metadata": {},
   "outputs": [
    {
     "data": {
      "text/plain": [
       "array([1, 0, 1, 0, 0])"
      ]
     },
     "execution_count": 75,
     "metadata": {},
     "output_type": "execute_result"
    }
   ],
   "source": [
    "y_train[:5]"
   ]
  },
  {
   "cell_type": "code",
   "execution_count": 76,
   "metadata": {
    "collapsed": true
   },
   "outputs": [],
   "source": [
    "# x_train[x_train=='Female'] = 0\n",
    "# x_train[x_train=='Male'] = 1"
   ]
  },
  {
   "cell_type": "code",
   "execution_count": 77,
   "metadata": {
    "collapsed": true
   },
   "outputs": [],
   "source": [
    "from sklearn.preprocessing import LabelEncoder\n",
    "labelencoder1 = LabelEncoder()\n",
    "x_train[:,1] = labelencoder1.fit_transform(x_train[:,1])\n",
    "x_test[:,1] = labelencoder1.transform(x_test[:,1])\n",
    "labelencoder2 = LabelEncoder()\n",
    "x_train[:,2] = labelencoder2.fit_transform(x_train[:,2])\n",
    "x_test[:,2] = labelencoder2.transform(x_test[:,2])"
   ]
  },
  {
   "cell_type": "code",
   "execution_count": 78,
   "metadata": {},
   "outputs": [
    {
     "data": {
      "text/plain": [
       "array([['619', '0', '0', '42', '2', '0', '1', '1', '1', '101348.88'],\n",
       "       ['608', '2', '0', '41', '1', '83807.86', '1', '0', '1',\n",
       "        '112542.58'],\n",
       "       ['502', '0', '0', '42', '8', '159660.8', '3', '1', '0',\n",
       "        '113931.57'],\n",
       "       ['699', '0', '0', '39', '1', '0', '2', '0', '0', '93826.63'],\n",
       "       ['850', '2', '0', '43', '2', '125510.82', '1', '1', '1',\n",
       "        '79084.1']], dtype='<U23')"
      ]
     },
     "execution_count": 78,
     "metadata": {},
     "output_type": "execute_result"
    }
   ],
   "source": [
    "x_train[:5]"
   ]
  },
  {
   "cell_type": "code",
   "execution_count": 79,
   "metadata": {
    "collapsed": true
   },
   "outputs": [],
   "source": [
    "x_train = x_train.astype(np.float32)\n",
    "x_test = x_test.astype(np.float32)\n",
    "y_train = y_train.astype(np.float32)\n",
    "y_test = y_test.astype(np.float32)"
   ]
  },
  {
   "cell_type": "code",
   "execution_count": 80,
   "metadata": {},
   "outputs": [],
   "source": [
    "from sklearn.preprocessing import StandardScaler\n",
    "sc = StandardScaler()\n",
    "x_train = sc.fit_transform(x_train)\n",
    "x_test = sc.transform(x_test)"
   ]
  },
  {
   "cell_type": "code",
   "execution_count": 81,
   "metadata": {},
   "outputs": [
    {
     "data": {
      "text/plain": [
       "array([[-0.32622153, -0.90188617, -1.0959874 ,  0.29351756, -1.0417597 ,\n",
       "        -1.2258477 , -0.9115835 ,  0.64609164,  0.97024256,  0.02188664],\n",
       "       [-0.44003606,  1.5150673 , -1.0959874 ,  0.19816396, -1.3875377 ,\n",
       "         0.11734999, -0.9115835 , -1.547768  ,  0.97024256,  0.21653381],\n",
       "       [-1.5367943 , -0.90188617, -1.0959874 ,  0.29351756,  1.0329077 ,\n",
       "         1.3330532 ,  2.5270567 ,  0.64609164, -1.0306702 ,  0.240687  ],\n",
       "       [ 0.5015206 , -0.90188617, -1.0959874 ,  0.00745677, -1.3875377 ,\n",
       "        -1.2258477 ,  0.8077365 , -1.547768  , -1.0306702 , -0.10891777],\n",
       "       [ 2.0638838 ,  1.5150673 , -1.0959874 ,  0.38887113, -1.0417597 ,\n",
       "         0.78572786, -0.9115835 ,  0.64609164,  0.97024256, -0.36527565]],\n",
       "      dtype=float32)"
      ]
     },
     "execution_count": 81,
     "metadata": {},
     "output_type": "execute_result"
    }
   ],
   "source": [
    "x_train[:5]"
   ]
  },
  {
   "cell_type": "code",
   "execution_count": 52,
   "metadata": {},
   "outputs": [
    {
     "name": "stdout",
     "output_type": "stream",
     "text": [
      "             precision    recall  f1-score   support\n",
      "\n",
      "        0.0       0.80      0.95      0.87       740\n",
      "        1.0       0.69      0.33      0.45       260\n",
      "\n",
      "avg / total       0.77      0.79      0.76      1000\n",
      "\n"
     ]
    }
   ],
   "source": [
    "from sklearn import neighbors\n",
    "from sklearn.metrics import classification_report\n",
    "\n",
    "knn = neighbors.KNeighborsClassifier(n_neighbors=5)\n",
    "knn.fit(x_train, y_train)\n",
    "predictions = knn.predict(x_test)\n",
    "print(classification_report(y_test, predictions))"
   ]
  },
  {
   "cell_type": "code",
   "execution_count": 53,
   "metadata": {},
   "outputs": [
    {
     "name": "stdout",
     "output_type": "stream",
     "text": [
      "             precision    recall  f1-score   support\n",
      "\n",
      "        0.0       0.82      0.95      0.88       740\n",
      "        1.0       0.73      0.41      0.52       260\n",
      "\n",
      "avg / total       0.80      0.81      0.79      1000\n",
      "\n"
     ]
    }
   ],
   "source": [
    "from sklearn.neural_network import MLPClassifier \n",
    "\n",
    "mlp = MLPClassifier(hidden_layer_sizes=(20,10) ,max_iter=500)\n",
    "mlp.fit(x_train,y_train)\n",
    "\n",
    "predictions = mlp.predict(x_test)\n",
    "print(classification_report(y_test, predictions))"
   ]
  },
  {
   "cell_type": "code",
   "execution_count": null,
   "metadata": {
    "collapsed": true
   },
   "outputs": [],
   "source": []
  },
  {
   "cell_type": "code",
   "execution_count": null,
   "metadata": {
    "collapsed": true
   },
   "outputs": [],
   "source": []
  },
  {
   "cell_type": "code",
   "execution_count": null,
   "metadata": {
    "collapsed": true
   },
   "outputs": [],
   "source": []
  },
  {
   "cell_type": "code",
   "execution_count": null,
   "metadata": {
    "collapsed": true
   },
   "outputs": [],
   "source": []
  }
 ],
 "metadata": {
  "anaconda-cloud": {},
  "kernelspec": {
   "display_name": "Python 3",
   "language": "python",
   "name": "python3"
  },
  "language_info": {
   "codemirror_mode": {
    "name": "ipython",
    "version": 3
   },
   "file_extension": ".py",
   "mimetype": "text/x-python",
   "name": "python",
   "nbconvert_exporter": "python",
   "pygments_lexer": "ipython3",
   "version": "3.6.5"
  }
 },
 "nbformat": 4,
 "nbformat_minor": 1
}
